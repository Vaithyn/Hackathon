{
 "cells": [
  {
   "cell_type": "code",
   "execution_count": 1,
   "metadata": {},
   "outputs": [
    {
     "name": "stderr",
     "output_type": "stream",
     "text": [
      "C:\\Users\\vaitnd\\AppData\\Local\\Continuum\\anaconda\\lib\\site-packages\\sklearn\\cross_validation.py:41: DeprecationWarning: This module was deprecated in version 0.18 in favor of the model_selection module into which all the refactored classes and functions are moved. Also note that the interface of the new CV iterators are different from that of this module. This module will be removed in 0.20.\n",
      "  \"This module will be removed in 0.20.\", DeprecationWarning)\n",
      "C:\\Users\\vaitnd\\AppData\\Local\\Continuum\\anaconda\\lib\\site-packages\\sklearn\\ensemble\\weight_boosting.py:29: DeprecationWarning: numpy.core.umath_tests is an internal NumPy module and should not be imported. It will be removed in a future NumPy release.\n",
      "  from numpy.core.umath_tests import inner1d\n"
     ]
    }
   ],
   "source": [
    "# Importing all the necessary libraries\n",
    "\n",
    "import numpy as np\n",
    "import pandas as pd\n",
    "from sklearn import metrics, model_selection\n",
    "from sklearn.metrics import accuracy_score, confusion_matrix, classification_report\n",
    "from sklearn import preprocessing\n",
    "from sklearn import svm\n",
    "from sklearn.linear_model import LogisticRegression\n",
    "from sklearn.cross_validation import train_test_split\n",
    "from sklearn.feature_selection import RFE\n",
    "from sklearn.model_selection import cross_val_score\n",
    "from sklearn.tree import DecisionTreeClassifier, DecisionTreeRegressor\n",
    "from sklearn.ensemble import RandomForestClassifier, RandomForestRegressor\n",
    "import seaborn as sns\n",
    "from matplotlib import pyplot as plt"
   ]
  },
  {
   "cell_type": "code",
   "execution_count": 2,
   "metadata": {},
   "outputs": [],
   "source": [
    "# Reading/Loading the train/test data\n",
    "\n",
    "traindata = pd.read_csv('train_data.csv')\n",
    "testdata = pd.read_csv('test_data.csv')"
   ]
  },
  {
   "cell_type": "code",
   "execution_count": 3,
   "metadata": {},
   "outputs": [
    {
     "name": "stdout",
     "output_type": "stream",
     "text": [
      "(614, 13)\n",
      "Index(['Loan_ID', 'Gender', 'Married', 'Dependents', 'Education',\n",
      "       'Self_Employed', 'ApplicantIncome', 'CoapplicantIncome', 'LoanAmount',\n",
      "       'Loan_Amount_Term', 'Credit_History', 'Property_Area', 'Loan_Status'],\n",
      "      dtype='object')\n",
      "<class 'pandas.core.frame.DataFrame'>\n",
      "RangeIndex: 614 entries, 0 to 613\n",
      "Data columns (total 13 columns):\n",
      "Loan_ID              614 non-null object\n",
      "Gender               601 non-null object\n",
      "Married              611 non-null object\n",
      "Dependents           599 non-null object\n",
      "Education            614 non-null object\n",
      "Self_Employed        582 non-null object\n",
      "ApplicantIncome      614 non-null int64\n",
      "CoapplicantIncome    614 non-null float64\n",
      "LoanAmount           592 non-null float64\n",
      "Loan_Amount_Term     600 non-null float64\n",
      "Credit_History       564 non-null float64\n",
      "Property_Area        614 non-null object\n",
      "Loan_Status          614 non-null object\n",
      "dtypes: float64(4), int64(1), object(8)\n",
      "memory usage: 62.4+ KB\n"
     ]
    }
   ],
   "source": [
    "# Creating a new dataframe for preprocessing\n",
    "a = traindata.copy()\n",
    "# Observations\n",
    "print(a.shape)\n",
    "print(a.columns)\n",
    "a.info()"
   ]
  },
  {
   "cell_type": "code",
   "execution_count": 4,
   "metadata": {},
   "outputs": [
    {
     "data": {
      "text/plain": [
       "Loan_ID               0\n",
       "Gender               13\n",
       "Married               3\n",
       "Dependents           15\n",
       "Education             0\n",
       "Self_Employed        32\n",
       "ApplicantIncome       0\n",
       "CoapplicantIncome     0\n",
       "LoanAmount           22\n",
       "Loan_Amount_Term     14\n",
       "Credit_History       50\n",
       "Property_Area         0\n",
       "Loan_Status           0\n",
       "dtype: int64"
      ]
     },
     "execution_count": 4,
     "metadata": {},
     "output_type": "execute_result"
    }
   ],
   "source": [
    "#Identifying the null counts for all columns\n",
    "a.isnull().sum()"
   ]
  },
  {
   "cell_type": "code",
   "execution_count": 5,
   "metadata": {},
   "outputs": [
    {
     "data": {
      "text/plain": [
       "Loan_ID              0\n",
       "Gender               0\n",
       "Married              0\n",
       "Dependents           0\n",
       "Education            0\n",
       "Self_Employed        0\n",
       "ApplicantIncome      0\n",
       "CoapplicantIncome    0\n",
       "LoanAmount           0\n",
       "Loan_Amount_Term     0\n",
       "Credit_History       0\n",
       "Property_Area        0\n",
       "Loan_Status          0\n",
       "dtype: int64"
      ]
     },
     "execution_count": 5,
     "metadata": {},
     "output_type": "execute_result"
    }
   ],
   "source": [
    "# Filling the NULL columns with back fill values from the next column\n",
    "\n",
    "a.fillna(method='bfill', inplace=True)\n",
    "a.isnull().sum()"
   ]
  },
  {
   "cell_type": "code",
   "execution_count": 6,
   "metadata": {},
   "outputs": [
    {
     "name": "stdout",
     "output_type": "stream",
     "text": [
      "Gender:  ['Male' 'Female']\n",
      "Married:  ['No' 'Yes']\n",
      "Dependents:  ['0' '1' '2' '3+']\n",
      "Education:  ['Graduate' 'Not Graduate']\n",
      "Self_Employed:  ['No' 'Yes']\n",
      "Property_Area:  ['Urban' 'Rural' 'Semiurban']\n",
      "Loan_Status:  ['Y' 'N']\n"
     ]
    }
   ],
   "source": [
    "# Identifying the UNIQUE values for the categorical columns\n",
    "print('Gender: ', a['Gender'].unique())\n",
    "print('Married: ', a['Married'].unique())\n",
    "print('Dependents: ', a['Dependents'].unique())\n",
    "print('Education: ', a['Education'].unique())\n",
    "print('Self_Employed: ', a['Self_Employed'].unique())\n",
    "print('Property_Area: ', a['Property_Area'].unique())\n",
    "print('Loan_Status: ', a['Loan_Status'].unique())"
   ]
  },
  {
   "cell_type": "code",
   "execution_count": 7,
   "metadata": {},
   "outputs": [],
   "source": [
    "# Changing the categorical target column in to numeric column\n",
    "\n",
    "a['Loan_Status'] = np.where(a.Loan_Status =='Y',1,0)"
   ]
  },
  {
   "cell_type": "code",
   "execution_count": 8,
   "metadata": {},
   "outputs": [
    {
     "data": {
      "text/plain": [
       "Loan_Status          1.000000\n",
       "Credit_History       0.516944\n",
       "ApplicantIncome     -0.004710\n",
       "Loan_Amount_Term    -0.022549\n",
       "LoanAmount          -0.039871\n",
       "CoapplicantIncome   -0.059187\n",
       "Name: Loan_Status, dtype: float64"
      ]
     },
     "execution_count": 8,
     "metadata": {},
     "output_type": "execute_result"
    }
   ],
   "source": [
    "#Relationship between the independent and dependent variables\n",
    "\n",
    "a.corr()['Loan_Status'].sort_values(ascending=False)"
   ]
  },
  {
   "cell_type": "code",
   "execution_count": 9,
   "metadata": {},
   "outputs": [
    {
     "data": {
      "text/plain": [
       "Text(0,0.5,'No of Customers')"
      ]
     },
     "execution_count": 9,
     "metadata": {},
     "output_type": "execute_result"
    },
    {
     "data": {
      "image/png": "[encoded data removed]",
      "text/plain": [
       "<Figure size 432x288 with 1 Axes>"
      ]
     },
     "metadata": {
      "needs_background": "light"
     },
     "output_type": "display_data"
    }
   ],
   "source": [
    "# Data visualization\n",
    "\n",
    "pd.crosstab(a.Gender,a.Loan_Status).plot(kind='bar')\n",
    "plt.title('Loan Status by Gender')\n",
    "plt.xlabel('Gender wise Loan status')\n",
    "plt.ylabel('No of Customers')"
   ]
  },
  {
   "cell_type": "markdown",
   "metadata": {},
   "source": [
    "The Status of the loan depends a great deal on the Gender. Thus, Gender can be a good predictor of the outcome variable."
   ]
  },
  {
   "cell_type": "code",
   "execution_count": 10,
   "metadata": {},
   "outputs": [
    {
     "data": {
      "text/plain": [
       "Text(0,0.5,'No of Customers')"
      ]
     },
     "execution_count": 10,
     "metadata": {},
     "output_type": "execute_result"
    },
    {
     "data": {
      "image/png": "[encoded data removed]",
      "text/plain": [
       "<Figure size 432x288 with 1 Axes>"
      ]
     },
     "metadata": {
      "needs_background": "light"
     },
     "output_type": "display_data"
    }
   ],
   "source": [
    "# Data visualization\n",
    "\n",
    "pd.crosstab(a.Married,a.Loan_Status).plot(kind='bar')\n",
    "plt.title('Loan Status by Marital Status')\n",
    "plt.xlabel('Marital Status wise Loan status')\n",
    "plt.ylabel('No of Customers')"
   ]
  },
  {
   "cell_type": "markdown",
   "metadata": {},
   "source": [
    "Married customers have a better loan purchase rate than the unmarried customers. Hence Married column can also help predicting the Loan Status"
   ]
  },
  {
   "cell_type": "code",
   "execution_count": 11,
   "metadata": {},
   "outputs": [
    {
     "data": {
      "text/plain": [
       "Text(0,0.5,'No of Customers')"
      ]
     },
     "execution_count": 11,
     "metadata": {},
     "output_type": "execute_result"
    },
    {
     "data": {
      "image/png": "[encoded data removed]",
      "text/plain": [
       "<Figure size 432x288 with 1 Axes>"
      ]
     },
     "metadata": {
      "needs_background": "light"
     },
     "output_type": "display_data"
    }
   ],
   "source": [
    "# Data visualization\n",
    "\n",
    "pd.crosstab(a.Property_Area,a.Loan_Status).plot(kind='bar')\n",
    "plt.title('Loan Status by Property Area')\n",
    "plt.xlabel('Location wise Loan status')\n",
    "plt.ylabel('No of Customers')"
   ]
  },
  {
   "cell_type": "markdown",
   "metadata": {},
   "source": [
    "Loans sanctioned are more for semiurban area compared to urban & rural areas. So Property Area can be a good predictor variable"
   ]
  },
  {
   "cell_type": "code",
   "execution_count": 12,
   "metadata": {},
   "outputs": [
    {
     "data": {
      "text/plain": [
       "Text(0,0.5,'No of Customers')"
      ]
     },
     "execution_count": 12,
     "metadata": {},
     "output_type": "execute_result"
    },
    {
     "data": {
      "image/png": "[encoded data removed]",
      "text/plain": [
       "<Figure size 432x288 with 1 Axes>"
      ]
     },
     "metadata": {
      "needs_background": "light"
     },
     "output_type": "display_data"
    }
   ],
   "source": [
    "# Data visualization\n",
    "\n",
    "pd.crosstab(a.Self_Employed,a.Loan_Status).plot(kind='bar')\n",
    "plt.title('Loan Status by Self Employment')\n",
    "plt.xlabel('Loan status with nature of work')\n",
    "plt.ylabel('No of Customers')"
   ]
  },
  {
   "cell_type": "markdown",
   "metadata": {},
   "source": [
    "Self Employment status column may help for the prediction"
   ]
  },
  {
   "cell_type": "code",
   "execution_count": 13,
   "metadata": {},
   "outputs": [
    {
     "name": "stdout",
     "output_type": "stream",
     "text": [
      "(614, 11)\n",
      "(614, 20)\n",
      "(614,)\n"
     ]
    },
    {
     "data": {
      "text/plain": [
       "Index(['ApplicantIncome', 'CoapplicantIncome', 'LoanAmount',\n",
       "       'Loan_Amount_Term', 'Credit_History', 'Gender_Female', 'Gender_Male',\n",
       "       'Married_No', 'Married_Yes', 'Dependents_0', 'Dependents_1',\n",
       "       'Dependents_2', 'Dependents_3+', 'Education_Graduate',\n",
       "       'Education_Not Graduate', 'Self_Employed_No', 'Self_Employed_Yes',\n",
       "       'Property_Area_Rural', 'Property_Area_Semiurban',\n",
       "       'Property_Area_Urban'],\n",
       "      dtype='object')"
      ]
     },
     "execution_count": 13,
     "metadata": {},
     "output_type": "execute_result"
    }
   ],
   "source": [
    "# Splitting X and Y -- dropping the target and irrelevant columns from X\n",
    "\n",
    "X = a.drop(['Loan_ID', 'Loan_Status'], axis=1)\n",
    "y = a['Loan_Status']\n",
    "print(X.shape)\n",
    "\n",
    "# Creating the dummy variables for the categorical columns\n",
    "\n",
    "X = pd.get_dummies(X)\n",
    "print(X.shape)\n",
    "print(y.shape)\n",
    "X.columns"
   ]
  },
  {
   "cell_type": "code",
   "execution_count": 14,
   "metadata": {},
   "outputs": [
    {
     "name": "stdout",
     "output_type": "stream",
     "text": [
      "(614, 16)\n"
     ]
    },
    {
     "data": {
      "text/plain": [
       "{'Credit_History',\n",
       " 'Dependents_0',\n",
       " 'Dependents_1',\n",
       " 'Dependents_2',\n",
       " 'Dependents_3+',\n",
       " 'Education_Graduate',\n",
       " 'Education_Not Graduate',\n",
       " 'Gender_Female',\n",
       " 'Gender_Male',\n",
       " 'Married_No',\n",
       " 'Married_Yes',\n",
       " 'Property_Area_Rural',\n",
       " 'Property_Area_Semiurban',\n",
       " 'Property_Area_Urban',\n",
       " 'Self_Employed_No',\n",
       " 'Self_Employed_Yes'}"
      ]
     },
     "execution_count": 14,
     "metadata": {},
     "output_type": "execute_result"
    }
   ],
   "source": [
    "# Identfying the top 16 columns using Recursive Feature Elimination process\n",
    "\n",
    "# Feature selection using Logistic Regression\n",
    "\n",
    "logreg = LogisticRegression()\n",
    "rfe = RFE(logreg, 16)\n",
    "rfe = rfe.fit(X,y)\n",
    "z=rfe.support_\n",
    "m=set(X.columns[z])\n",
    "X=X[X.columns[z]]\n",
    "print(X.shape)\n",
    "m"
   ]
  },
  {
   "cell_type": "code",
   "execution_count": 15,
   "metadata": {},
   "outputs": [
    {
     "data": {
      "text/plain": [
       "{'Credit_History',\n",
       " 'Dependents_0',\n",
       " 'Dependents_1',\n",
       " 'Dependents_2',\n",
       " 'Dependents_3+',\n",
       " 'Education_Graduate',\n",
       " 'Education_Not Graduate',\n",
       " 'Gender_Female',\n",
       " 'Gender_Male',\n",
       " 'Married_No',\n",
       " 'Married_Yes',\n",
       " 'Property_Area_Rural',\n",
       " 'Property_Area_Semiurban',\n",
       " 'Property_Area_Urban',\n",
       " 'Self_Employed_No',\n",
       " 'Self_Employed_Yes'}"
      ]
     },
     "execution_count": 15,
     "metadata": {},
     "output_type": "execute_result"
    }
   ],
   "source": [
    "# Feature selection using DecisionTreeClassifier\n",
    "\n",
    "dt = DecisionTreeClassifier()\n",
    "U = pd.get_dummies(X)\n",
    "rfe = RFE(dt, 16)\n",
    "rfe = rfe.fit(U,y)\n",
    "\n",
    "zz=rfe.support_\n",
    "mm=set(U.columns[zz])\n",
    "mm"
   ]
  },
  {
   "cell_type": "code",
   "execution_count": 16,
   "metadata": {},
   "outputs": [
    {
     "data": {
      "text/plain": [
       "{'Credit_History',\n",
       " 'Dependents_0',\n",
       " 'Dependents_1',\n",
       " 'Dependents_2',\n",
       " 'Dependents_3+',\n",
       " 'Education_Graduate',\n",
       " 'Education_Not Graduate',\n",
       " 'Gender_Female',\n",
       " 'Gender_Male',\n",
       " 'Married_No',\n",
       " 'Married_Yes',\n",
       " 'Property_Area_Rural',\n",
       " 'Property_Area_Semiurban',\n",
       " 'Property_Area_Urban',\n",
       " 'Self_Employed_No',\n",
       " 'Self_Employed_Yes'}"
      ]
     },
     "execution_count": 16,
     "metadata": {},
     "output_type": "execute_result"
    }
   ],
   "source": [
    "# Feature selection using DecisionTreeRegressor\n",
    "\n",
    "dtr = DecisionTreeRegressor()\n",
    "V = pd.get_dummies(X)\n",
    "rfe = RFE(dtr, 16)\n",
    "rfe = rfe.fit(V,y)\n",
    "\n",
    "zzz=rfe.support_\n",
    "mmm=set(V.columns[zzz])\n",
    "mmm"
   ]
  },
  {
   "cell_type": "code",
   "execution_count": 17,
   "metadata": {},
   "outputs": [],
   "source": [
    "# Feature selection using RandomForestClassifier\n",
    "\n",
    "rf = RandomForestClassifier()\n",
    "W = pd.get_dummies(X)\n",
    "rfe = RFE(rf, 16)\n",
    "rfe = rfe.fit(W,y)\n",
    "\n",
    "zw=rfe.support_\n",
    "n=set(W.columns[zw])\n",
    "\n",
    "# Feature selection using RandomForestRegressor\n",
    "\n",
    "rfr = RandomForestRegressor()\n",
    "T = pd.get_dummies(X)\n",
    "rfe = RFE(rfr, 16)\n",
    "rfe = rfe.fit(T,y)\n",
    "\n",
    "zt=rfe.support_\n",
    "nn=set(T.columns[zt])"
   ]
  },
  {
   "cell_type": "code",
   "execution_count": 18,
   "metadata": {},
   "outputs": [
    {
     "name": "stdout",
     "output_type": "stream",
     "text": [
      "set()\n",
      "set()\n",
      "set()\n"
     ]
    }
   ],
   "source": [
    "print(m.difference(mmm))\n",
    "print(mmm.difference(n))\n",
    "print(n.difference(nn))"
   ]
  },
  {
   "cell_type": "code",
   "execution_count": 19,
   "metadata": {},
   "outputs": [
    {
     "name": "stdout",
     "output_type": "stream",
     "text": [
      "Accuracy of test data is  0.8376623376623377\n",
      "Accuracy of train data is  0.7913043478260869\n"
     ]
    }
   ],
   "source": [
    "# Logistic Regression model fitting with 16 columns\n",
    "\n",
    "X_train, X_test, y_train, y_test = train_test_split(X, y, test_size=0.25, random_state=124)\n",
    "logreg = LogisticRegression()\n",
    "logreg.fit(X_train, y_train)\n",
    "\n",
    "# Predicting the test set results and calculating the accuracy\n",
    "\n",
    "y_pred = logreg.predict(X_test)\n",
    "print(\"Accuracy of test data is \", accuracy_score(y_test,y_pred))\n",
    "y_pred1 = logreg.predict(X_train)\n",
    "print(\"Accuracy of train data is \", accuracy_score(y_train,y_pred1))\n",
    "\n",
    "#Accuracy of test data is  0.8376623376623377\n",
    "#Accuracy of train data is  0.7913043478260869"
   ]
  },
  {
   "cell_type": "code",
   "execution_count": 20,
   "metadata": {},
   "outputs": [
    {
     "name": "stdout",
     "output_type": "stream",
     "text": [
      "Accuracy of test data is  0.8311688311688312\n",
      "Accuracy of train data is  0.7934782608695652\n"
     ]
    }
   ],
   "source": [
    "# Logistic Regression model fitting with multinomial class\n",
    "X_train, X_test, y_train, y_test = train_test_split(X, y, test_size=0.25, random_state=0)\n",
    "logreg1 = LogisticRegression(multi_class='multinomial',solver='sag')\n",
    "logreg1.fit(X_train, y_train)\n",
    "y_pred_1 = logreg1.predict(X_test)\n",
    "print(\"Accuracy of test data is \", accuracy_score(y_test,y_pred_1))\n",
    "y_pred_2 = logreg1.predict(X_train)\n",
    "print(\"Accuracy of train data is \", accuracy_score(y_train,y_pred_2))\n",
    "\n",
    "#Accuracy of test data is  0.8311688311688312\n",
    "#Accuracy of train data is  0.7934782608695652"
   ]
  },
  {
   "cell_type": "code",
   "execution_count": 21,
   "metadata": {},
   "outputs": [
    {
     "name": "stdout",
     "output_type": "stream",
     "text": [
      "{'Dependents_0', 'Married_Yes'}\n",
      "set()\n"
     ]
    }
   ],
   "source": [
    "# Identfying the top 14 columns using Recursive Feature Elimination process\n",
    "\n",
    "# Feature selection using Logistic Regression\n",
    "X = a.drop(['Loan_ID', 'Loan_Status'], axis=1)\n",
    "R = pd.get_dummies(X)\n",
    "logreg = LogisticRegression()\n",
    "rfe = RFE(logreg, 14)\n",
    "rfe = rfe.fit(R,y)\n",
    "s=rfe.support_\n",
    "p=set(R.columns[s])\n",
    "X=R[R.columns[s]]\n",
    "print(m.difference(p))\n",
    "print(p.difference(m))"
   ]
  },
  {
   "cell_type": "code",
   "execution_count": 22,
   "metadata": {},
   "outputs": [
    {
     "name": "stdout",
     "output_type": "stream",
     "text": [
      "(614, 14)\n"
     ]
    },
    {
     "data": {
      "text/plain": [
       "Index(['Credit_History', 'Gender_Female', 'Gender_Male', 'Married_No',\n",
       "       'Dependents_1', 'Dependents_2', 'Dependents_3+', 'Education_Graduate',\n",
       "       'Education_Not Graduate', 'Self_Employed_No', 'Self_Employed_Yes',\n",
       "       'Property_Area_Rural', 'Property_Area_Semiurban',\n",
       "       'Property_Area_Urban'],\n",
       "      dtype='object')"
      ]
     },
     "execution_count": 22,
     "metadata": {},
     "output_type": "execute_result"
    }
   ],
   "source": [
    "print(X.shape)\n",
    "X.columns"
   ]
  },
  {
   "cell_type": "code",
   "execution_count": 23,
   "metadata": {},
   "outputs": [
    {
     "name": "stdout",
     "output_type": "stream",
     "text": [
      "Accuracy of test data is  0.8378378378378378\n",
      "Accuracy of train data is  0.7878787878787878\n"
     ]
    }
   ],
   "source": [
    "# Logistic Regression model fitting with 14 columns\n",
    "\n",
    "X_train, X_test, y_train, y_test = train_test_split(X, y, test_size=0.3, random_state=322)\n",
    "logreg2 = LogisticRegression()\n",
    "logreg2.fit(X_train, y_train)\n",
    "\n",
    "# Predicting the test set results and calculating the accuracy\n",
    "\n",
    "y_pred = logreg2.predict(X_test)\n",
    "print(\"Accuracy of test data is \", accuracy_score(y_test,y_pred))\n",
    "y_pred1 = logreg2.predict(X_train)\n",
    "print(\"Accuracy of train data is \", accuracy_score(y_train,y_pred1))\n",
    "\n",
    "#Accuracy of test data is  0.8378378378378378\n",
    "#Accuracy of train data is  0.7878787878787878"
   ]
  },
  {
   "cell_type": "code",
   "execution_count": 24,
   "metadata": {},
   "outputs": [
    {
     "name": "stdout",
     "output_type": "stream",
     "text": [
      "Accuracy of test data is  0.8617886178861789\n",
      "Accuracy of train data is  0.7881873727087576\n"
     ]
    }
   ],
   "source": [
    "# Logistic Regression model fitting with multinomial class for top 14 cols\n",
    "X_train, X_test, y_train, y_test = train_test_split(X, y, test_size=0.20, random_state=321)\n",
    "logreg3 = LogisticRegression(multi_class='multinomial',solver='sag')\n",
    "logreg3.fit(X_train, y_train)\n",
    "y_pred_1 = logreg3.predict(X_test)\n",
    "print(\"Accuracy of test data is \", accuracy_score(y_test,y_pred_1))\n",
    "y_pred_2 = logreg3.predict(X_train)\n",
    "print(\"Accuracy of train data is \", accuracy_score(y_train,y_pred_2))\n",
    "\n",
    "#Accuracy of test data is  0.8617886178861789\n",
    "#Accuracy of train data is  0.7881873727087576"
   ]
  },
  {
   "cell_type": "markdown",
   "metadata": {},
   "source": [
    "The Logistic Regression model with multinomial class has the best accuracy rate "
   ]
  },
  {
   "cell_type": "code",
   "execution_count": 25,
   "metadata": {},
   "outputs": [
    {
     "name": "stdout",
     "output_type": "stream",
     "text": [
      "Accuracy of test data is  0.8054054054054054\n",
      "Accuracy of train data is  0.8228438228438228\n"
     ]
    }
   ],
   "source": [
    "# DecisionTreeClassifier model fitting\n",
    "X_train, X_test, y_train, y_test = train_test_split(X, y, test_size=0.3, random_state=321)\n",
    "dt = DecisionTreeClassifier()\n",
    "dt.fit(X_train, y_train)\n",
    "y_pred_dt1 = dt.predict(X_test)\n",
    "print(\"Accuracy of test data is \", accuracy_score(y_test,y_pred_dt1))\n",
    "y_pred_dt2 = dt.predict(X_train)\n",
    "print(\"Accuracy of train data is \", accuracy_score(y_train,y_pred_dt2))\n",
    "\n",
    "#Accuracy of test data is  0.8054054054054054\n",
    "#Accuracy of train data is  0.8228438228438228"
   ]
  },
  {
   "cell_type": "code",
   "execution_count": 26,
   "metadata": {},
   "outputs": [
    {
     "name": "stdout",
     "output_type": "stream",
     "text": [
      "Accuracy of test data is  0.8216216216216217\n",
      "Accuracy of train data is  0.8228438228438228\n"
     ]
    }
   ],
   "source": [
    "# RandomForestClassifier model fitting\n",
    "train, X_test, y_train, y_test = train_test_split(X, y, test_size=0.30, random_state=321)\n",
    "rf = RandomForestClassifier(n_estimators=25)\n",
    "rf.fit(X_train, y_train)\n",
    "y_pred_rf1 = rf.predict(X_test)\n",
    "print(\"Accuracy of test data is \", accuracy_score(y_test,y_pred_rf1))\n",
    "y_pred_rf2 = rf.predict(X_train)\n",
    "print(\"Accuracy of train data is \", accuracy_score(y_train,y_pred_rf2))"
   ]
  },
  {
   "cell_type": "code",
   "execution_count": 27,
   "metadata": {},
   "outputs": [
    {
     "data": {
      "text/plain": [
       "array([0, 1])"
      ]
     },
     "execution_count": 27,
     "metadata": {},
     "output_type": "execute_result"
    }
   ],
   "source": [
    "logreg3.predict([[0,0,1,0,0,1,0,0,1,1,0,1,0,0], [1,0,1,0,0,1,0,1,0,1,0,0,0,1]])"
   ]
  },
  {
   "cell_type": "code",
   "execution_count": 28,
   "metadata": {},
   "outputs": [
    {
     "name": "stdout",
     "output_type": "stream",
     "text": [
      "(367, 12)\n",
      "Index(['Loan_ID', 'Gender', 'Married', 'Dependents', 'Education',\n",
      "       'Self_Employed', 'ApplicantIncome', 'CoapplicantIncome', 'LoanAmount',\n",
      "       'Loan_Amount_Term', 'Credit_History', 'Property_Area'],\n",
      "      dtype='object')\n"
     ]
    },
    {
     "data": {
      "text/plain": [
       "Loan_ID               0\n",
       "Gender               11\n",
       "Married               0\n",
       "Dependents           10\n",
       "Education             0\n",
       "Self_Employed        23\n",
       "ApplicantIncome       0\n",
       "CoapplicantIncome     0\n",
       "LoanAmount            5\n",
       "Loan_Amount_Term      6\n",
       "Credit_History       29\n",
       "Property_Area         0\n",
       "dtype: int64"
      ]
     },
     "execution_count": 28,
     "metadata": {},
     "output_type": "execute_result"
    }
   ],
   "source": [
    "## EDA with test data file\n",
    "\n",
    "d = testdata.copy()\n",
    "print(d.shape)\n",
    "print(d.columns)\n",
    "d.isnull().sum()"
   ]
  },
  {
   "cell_type": "code",
   "execution_count": 29,
   "metadata": {},
   "outputs": [
    {
     "data": {
      "text/plain": [
       "Loan_ID              0\n",
       "Gender               0\n",
       "Married              0\n",
       "Dependents           0\n",
       "Education            0\n",
       "Self_Employed        0\n",
       "ApplicantIncome      0\n",
       "CoapplicantIncome    0\n",
       "LoanAmount           0\n",
       "Loan_Amount_Term     0\n",
       "Credit_History       0\n",
       "Property_Area        0\n",
       "dtype: int64"
      ]
     },
     "execution_count": 29,
     "metadata": {},
     "output_type": "execute_result"
    }
   ],
   "source": [
    "d.fillna(method = \"bfill\", inplace = True) \n",
    "d.isnull().sum()"
   ]
  },
  {
   "cell_type": "code",
   "execution_count": 30,
   "metadata": {},
   "outputs": [
    {
     "name": "stdout",
     "output_type": "stream",
     "text": [
      "<class 'pandas.core.frame.DataFrame'>\n",
      "RangeIndex: 367 entries, 0 to 366\n",
      "Data columns (total 12 columns):\n",
      "Loan_ID              367 non-null object\n",
      "Gender               367 non-null object\n",
      "Married              367 non-null object\n",
      "Dependents           367 non-null object\n",
      "Education            367 non-null object\n",
      "Self_Employed        367 non-null object\n",
      "ApplicantIncome      367 non-null int64\n",
      "CoapplicantIncome    367 non-null int64\n",
      "LoanAmount           367 non-null float64\n",
      "Loan_Amount_Term     367 non-null float64\n",
      "Credit_History       367 non-null float64\n",
      "Property_Area        367 non-null object\n",
      "dtypes: float64(3), int64(2), object(7)\n",
      "memory usage: 34.5+ KB\n"
     ]
    }
   ],
   "source": [
    "d.info()"
   ]
  },
  {
   "cell_type": "code",
   "execution_count": 108,
   "metadata": {},
   "outputs": [
    {
     "name": "stdout",
     "output_type": "stream",
     "text": [
      "Education:  ['Graduate' 'Not Graduate']\n",
      "Property_Area:  ['Urban' 'Semiurban' 'Rural']\n",
      "Married:  ['Yes' 'No']\n",
      "Gender:  ['Male' 'Female']\n",
      "Self_Employed:  ['No' 'Yes']\n",
      "Dependents:  ['0' '1' '2' '3+']\n"
     ]
    }
   ],
   "source": [
    "print(\"Education: \", d['Education'].unique())\n",
    "print(\"Property_Area: \", d['Property_Area'].unique())\n",
    "print(\"Married: \", d['Married'].unique())\n",
    "print(\"Gender: \", d['Gender'].unique())\n",
    "print(\"Self_Employed: \", d['Self_Employed'].unique())\n",
    "print(\"Dependents: \", d['Dependents'].unique())"
   ]
  },
  {
   "cell_type": "code",
   "execution_count": 31,
   "metadata": {},
   "outputs": [
    {
     "name": "stdout",
     "output_type": "stream",
     "text": [
      "(367, 20)\n"
     ]
    },
    {
     "data": {
      "text/plain": [
       "Index(['ApplicantIncome', 'CoapplicantIncome', 'LoanAmount',\n",
       "       'Loan_Amount_Term', 'Credit_History', 'Gender_Female', 'Gender_Male',\n",
       "       'Married_No', 'Married_Yes', 'Dependents_0', 'Dependents_1',\n",
       "       'Dependents_2', 'Dependents_3+', 'Education_Graduate',\n",
       "       'Education_Not Graduate', 'Self_Employed_No', 'Self_Employed_Yes',\n",
       "       'Property_Area_Rural', 'Property_Area_Semiurban',\n",
       "       'Property_Area_Urban'],\n",
       "      dtype='object')"
      ]
     },
     "execution_count": 31,
     "metadata": {},
     "output_type": "execute_result"
    }
   ],
   "source": [
    "d = d.drop(['Loan_ID'], axis=1)\n",
    "d = pd.get_dummies(d)\n",
    "print(d.shape)\n",
    "d.columns"
   ]
  },
  {
   "cell_type": "code",
   "execution_count": 32,
   "metadata": {},
   "outputs": [
    {
     "data": {
      "text/plain": [
       "(367, 14)"
      ]
     },
     "execution_count": 32,
     "metadata": {},
     "output_type": "execute_result"
    }
   ],
   "source": [
    "# Aligning with features selected for train data\n",
    "\n",
    "test = d[[ 'Credit_History', 'Gender_Female', 'Gender_Male', 'Married_No', 'Dependents_1', 'Dependents_2', 'Dependents_3+', 'Education_Graduate', 'Education_Not Graduate', 'Self_Employed_No', 'Self_Employed_Yes', 'Property_Area_Rural', 'Property_Area_Semiurban', 'Property_Area_Urban']].copy()\n",
    "test.shape"
   ]
  },
  {
   "cell_type": "code",
   "execution_count": 33,
   "metadata": {},
   "outputs": [
    {
     "data": {
      "text/plain": [
       "array([1, 0])"
      ]
     },
     "execution_count": 33,
     "metadata": {},
     "output_type": "execute_result"
    }
   ],
   "source": [
    "logreg2.predict([[1,1,0,0,0,0,0,1,0,1,0,0,1,0], [0,0,1,0,0,1,0,1,0,1,0,0,1,0]])"
   ]
  },
  {
   "cell_type": "code",
   "execution_count": 34,
   "metadata": {},
   "outputs": [
    {
     "data": {
      "text/plain": [
       "array([1, 1, 1, 1, 1, 1, 1, 0, 1, 1, 1, 1, 0, 0, 1, 1, 1, 1, 1, 1, 1, 1,\n",
       "       1, 1, 1, 0, 1, 1, 1, 1, 1, 1, 1, 1, 1, 0, 1, 1, 1, 1, 1, 1, 1, 1,\n",
       "       1, 1, 1, 1, 1, 1, 1, 1, 1, 1, 1, 0, 1, 1, 0, 1, 1, 1, 1, 0, 1, 1,\n",
       "       0, 0, 1, 0, 1, 1, 1, 1, 1, 1, 1, 1, 1, 1, 0, 1, 0, 1, 0, 1, 1, 1,\n",
       "       1, 1, 1, 1, 1, 1, 0, 1, 1, 1, 1, 1, 1, 0, 1, 1, 1, 1, 0, 1, 1, 1,\n",
       "       1, 1, 1, 1, 1, 1, 1, 0, 0, 0, 1, 1, 1, 0, 0, 1, 0, 1, 1, 1, 1, 1,\n",
       "       1, 1, 1, 1, 1, 1, 1, 0, 0, 1, 0, 1, 1, 1, 1, 0, 1, 1, 1, 1, 1, 0,\n",
       "       1, 1, 1, 1, 1, 1, 1, 0, 1, 1, 0, 0, 0, 1, 0, 1, 1, 1, 1, 0, 0, 1,\n",
       "       1, 1, 1, 1, 1, 1, 1, 1, 1, 1, 1, 1, 1, 1, 1, 1, 0, 0, 1, 1, 0, 1,\n",
       "       0, 1, 1, 1, 1, 1, 1, 1, 1, 1, 1, 1, 1, 0, 1, 1, 1, 1, 1, 1, 1, 1,\n",
       "       1, 1, 1, 1, 0, 1, 1, 1, 1, 0, 1, 1, 1, 1, 1, 0, 0, 1, 1, 1, 1, 0,\n",
       "       1, 0, 1, 0, 1, 1, 1, 1, 0, 1, 1, 1, 1, 0, 1, 1, 1, 1, 1, 1, 1, 1,\n",
       "       1, 0, 0, 1, 0, 1, 1, 1, 1, 0, 0, 1, 1, 1, 0, 1, 1, 1, 1, 1, 1, 1,\n",
       "       1, 1, 1, 1, 1, 1, 1, 0, 1, 1, 1, 1, 1, 1, 1, 0, 1, 1, 1, 1, 1, 1,\n",
       "       1, 1, 1, 0, 1, 1, 1, 1, 1, 0, 1, 1, 1, 1, 1, 1, 1, 0, 1, 1, 1, 1,\n",
       "       1, 1, 1, 1, 1, 1, 1, 1, 1, 0, 1, 1, 1, 1, 1, 1, 0, 1, 1, 1, 1, 1,\n",
       "       1, 1, 0, 1, 1, 1, 1, 1, 1, 1, 1, 1, 1, 1, 1])"
      ]
     },
     "execution_count": 34,
     "metadata": {},
     "output_type": "execute_result"
    }
   ],
   "source": [
    "# Implementing the Logistic Regression model which has the best accuracy score\n",
    "prediction = logreg2.predict(test)\n",
    "prediction"
   ]
  },
  {
   "cell_type": "code",
   "execution_count": 35,
   "metadata": {},
   "outputs": [],
   "source": [
    "# Creating a Dataframe with the predicted values\n",
    "submission = pd.DataFrame({\"Loan_ID\": testdata[\"Loan_ID\"], \"Loan_Status\": prediction})"
   ]
  },
  {
   "cell_type": "code",
   "execution_count": 36,
   "metadata": {},
   "outputs": [],
   "source": [
    "# Converting the numerical values back to categorical values\n",
    "submission[\"Loan_Status\"] = np.where(submission.Loan_Status ==1,\"Y\",\"N\")"
   ]
  },
  {
   "cell_type": "code",
   "execution_count": 37,
   "metadata": {},
   "outputs": [],
   "source": [
    "# Creating the test result file\n",
    "submission.to_csv('submission.csv', index=False)"
   ]
  }
 ],
 "metadata": {
  "kernelspec": {
   "display_name": "Python 3",
   "language": "python",
   "name": "python3"
  },
  "language_info": {
   "codemirror_mode": {
    "name": "ipython",
    "version": 3
   },
   "file_extension": ".py",
   "mimetype": "text/x-python",
   "name": "python",
   "nbconvert_exporter": "python",
   "pygments_lexer": "ipython3",
   "version": "3.7.0"
  }
 },
 "nbformat": 4,
 "nbformat_minor": 2
}
